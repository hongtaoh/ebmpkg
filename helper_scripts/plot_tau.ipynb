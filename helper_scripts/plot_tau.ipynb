{
 "cells": [
  {
   "cell_type": "code",
   "execution_count": 28,
   "metadata": {},
   "outputs": [],
   "source": [
    "import pandas as pd \n",
    "import numpy as np \n",
    "import matplotlib.pyplot as plt \n",
    "import seaborn as sns \n",
    "import json"
   ]
  },
  {
   "cell_type": "code",
   "execution_count": 29,
   "metadata": {},
   "outputs": [
    {
     "name": "stdout",
     "output_type": "stream",
     "text": [
      "not available: 0\n"
     ]
    }
   ],
   "source": [
    "j_values = [50, 200, 500]\n",
    "r_values = [0.1, 0.25, 0.5, 0.75, 0.9]\n",
    "m_values = range(50)  # From 0 to 49 (inclusive)\n",
    "temp_json_results_dir = 'temp_json_results/soft_kmeans'\n",
    "\n",
    "dic = {}\n",
    "dic['param'] = {\n",
    "    \"num_of_datasets_per_combination\": 50,\n",
    "    \"n_iter\": 5000,\n",
    "    \"n_biomarkers\": 10\n",
    "}\n",
    "not_available = 0\n",
    "for j in j_values:\n",
    "    for r in r_values:\n",
    "        combstr = f\"{int(j*r)}|{j}\"\n",
    "        if combstr not in dic:\n",
    "            dic[combstr] = []\n",
    "        for m in m_values:\n",
    "            try:\n",
    "                with open(f\"{temp_json_results_dir}/temp_results_{j}_{r}_{m}.json\") as f:\n",
    "                    d = json.load(f)\n",
    "                tau = list(d.values())[0][0]\n",
    "                dic[combstr].append(tau)\n",
    "            except:\n",
    "                not_available += 1\n",
    "                print(f\"{combstr}_{m}\")\n",
    "                dic[combstr].append(np.nan)\n",
    "\n",
    "print(f\"not available: {not_available}\")\n",
    "with open('results/results.json', \"w\") as file:\n",
    "        json.dump(dic, file, indent=4)"
   ]
  },
  {
   "cell_type": "code",
   "execution_count": 30,
   "metadata": {},
   "outputs": [],
   "source": [
    "def plot_tau_synthetic(\n",
    "        tau_file,\n",
    "        ns,\n",
    "        rs,\n",
    "        num_of_datasets_per_combination,\n",
    "        plot_name = 'violin_plot',\n",
    "        method = \"Soft K-Means\"\n",
    "    ):\n",
    "    with open(tau_file) as f:\n",
    "        tau = json.load(f)\n",
    "    data = tau\n",
    "    param = data['param']\n",
    "    print(param)\n",
    "    dict_list = []\n",
    "    for n in ns:\n",
    "        for r in rs:\n",
    "            key = f\"{int(n*r)}|{n}\"\n",
    "            for m in range(0, num_of_datasets_per_combination):\n",
    "                dic = {}  # Create a new dictionary for each loop iteration\n",
    "                dic[\"n\"] = f\"$J={n}$\"\n",
    "                dic['r'] = f\"{int(r*100)}%\"\n",
    "                dic['tau'] = data[key][m]\n",
    "                dict_list.append(dic)  # Append the new dictionary\n",
    "    df = pd.DataFrame(dict_list)\n",
    "\n",
    "    fig, ax = plt.subplots(figsize=(12, 8))\n",
    "    \n",
    "    # Create the boxplot\n",
    "    # Optionally, add a violin plot for better distribution visualization\n",
    "    if 'boxplot' in plot_name:\n",
    "        g = sns.boxplot(data=df, x=\"n\", y=\"tau\", hue=\"r\", palette=\"bright\", ax = ax)\n",
    "    else:\n",
    "        g = sns.violinplot(data=df, x=\"n\", y=\"tau\", hue=\"r\", palette=\"bright\", \n",
    "                       dodge=True, alpha=0.6, linewidth=0, ax = ax)\n",
    "        \n",
    "    g.set_ylim(-0.5, 1)\n",
    "\n",
    "    # Set the x-axis label\n",
    "    g.set_xlabel(\"Participant Size\", fontsize=14)\n",
    "\n",
    "    # Set the y-axis label\n",
    "    g.set_ylabel(\"Kendall's Tau\", fontsize=14)\n",
    "\n",
    "    # Set the plot title\n",
    "    g.set_title(f\"Kendall's Tau values across different combinations in synthetic data ({method})\", fontsize=16)\n",
    "\n",
    "    # Adjust the legend and move it outside the figure\n",
    "    plt.legend(title=\"Healthy Ratio\", title_fontsize='13', fontsize='10', \n",
    "            bbox_to_anchor=(1.05, 1), loc='upper left')\n",
    "    \n",
    "    print(param['num_of_datasets_per_combination'])\n",
    "    print(param['n_iter'])\n",
    "\n",
    "    # Add a multi-line caption to the plot\n",
    "    caption_text = (\n",
    "        \"Notes:\\n\"\n",
    "        \"\\n\"\n",
    "        \"This figure shows Kendall's Tau for different combinations of participant size and healthy ratio.\\n\"\n",
    "        f\"Each bombination has {param['num_of_datasets_per_combination']} variants of datasets\\n\"\n",
    "        \"The results are derived from our own implementation of soft kmeans based on synthetic data with 10 biomarkers.\\n\"\n",
    "        f\"Number of iterations is {param['n_iter']}.\"\n",
    "    )\n",
    "    ax.figure.text(\n",
    "        0.05, -0.01, caption_text, ha='left', va='top',\n",
    "        fontsize=12, wrap=True\n",
    "    )\n",
    "\n",
    "    # Adjust the layout to make room for the legend\n",
    "    plt.tight_layout()  # Leave some space at the bottom for the caption\n",
    "    # Show the plot\n",
    "    # plt.show()\n",
    "    plt.savefig(f'results/{plot_name}.png', bbox_inches='tight')\n",
    "    # Close the plot to avoid issues with subsequent plots\n",
    "    plt.close()"
   ]
  },
  {
   "cell_type": "code",
   "execution_count": 31,
   "metadata": {},
   "outputs": [],
   "source": [
    "# tau_file = 'results/cp_results.json'\n",
    "tau_file = \"results/results.json\"\n",
    "ns = [50, 200, 500]\n",
    "rs = [0.1, 0.25, 0.5, 0.75, 0.9]\n",
    "num_of_datasets_per_combination = 50"
   ]
  },
  {
   "cell_type": "code",
   "execution_count": 32,
   "metadata": {},
   "outputs": [
    {
     "name": "stdout",
     "output_type": "stream",
     "text": [
      "{'num_of_datasets_per_combination': 50, 'n_iter': 5000, 'n_biomarkers': 10}\n",
      "50\n",
      "5000\n"
     ]
    }
   ],
   "source": [
    "plot_tau_synthetic(\n",
    "        tau_file,\n",
    "        ns,\n",
    "        rs,\n",
    "        num_of_datasets_per_combination,\n",
    "        plot_name = 'boxplot',\n",
    ")"
   ]
  },
  {
   "cell_type": "code",
   "execution_count": 33,
   "metadata": {},
   "outputs": [
    {
     "name": "stdout",
     "output_type": "stream",
     "text": [
      "{'num_of_datasets_per_combination': 50, 'n_iter': 5000, 'n_biomarkers': 10}\n",
      "50\n",
      "5000\n"
     ]
    }
   ],
   "source": [
    "plot_tau_synthetic(\n",
    "        tau_file,\n",
    "        ns,\n",
    "        rs,\n",
    "        num_of_datasets_per_combination,\n",
    ")"
   ]
  }
 ],
 "metadata": {
  "kernelspec": {
   "display_name": "bayes",
   "language": "python",
   "name": "python3"
  },
  "language_info": {
   "codemirror_mode": {
    "name": "ipython",
    "version": 3
   },
   "file_extension": ".py",
   "mimetype": "text/x-python",
   "name": "python",
   "nbconvert_exporter": "python",
   "pygments_lexer": "ipython3",
   "version": "3.9.20"
  }
 },
 "nbformat": 4,
 "nbformat_minor": 2
}
