{
 "cells": [
  {
   "cell_type": "code",
   "execution_count": 1,
   "metadata": {},
   "outputs": [],
   "source": [
    "import json \n",
    "import pandas as pd \n",
    "import soft_kmeans_alg \n",
    "import new_utils \n",
    "import json \n",
    "import numpy as np \n",
    "from scipy.stats import kendalltau\n",
    "from scipy.stats import mode\n",
    "from sklearn.cluster import KMeans\n",
    "from sklearn.cluster import AgglomerativeClustering\n",
    "from htcopkmeans.cop_kmeans import cop_kmeans"
   ]
  },
  {
   "cell_type": "code",
   "execution_count": 10,
   "metadata": {},
   "outputs": [],
   "source": [
    "# j_values = [50, 200, 500]\n",
    "# r_values = [0.1, 0.25, 0.5, 0.75, 0.9]\n",
    "# m_values = range(50)  # From 0 to 49 (inclusive)\n",
    "# temp_json_results_dir = 'temp_json_results/conjugate_priors'\n",
    "# not_available_fnames_file = 'results/not_available_fnames.txt'\n",
    "\n",
    "# dic = {}\n",
    "# dic['param'] = {\n",
    "#     \"num_of_datasets_per_combination\": 50,\n",
    "#     \"n_iter\": 5000,\n",
    "#     \"n_biomarkers\": 10\n",
    "# }\n",
    "# not_available_fnames = []\n",
    "# not_available_count = 0\n",
    "# for j in j_values:\n",
    "#     for r in r_values:\n",
    "#         combstr = f\"{int(j*r)}|{j}\"\n",
    "#         if combstr not in dic:\n",
    "#             dic[combstr] = []\n",
    "#         for m in m_values:\n",
    "#             try:\n",
    "#                 with open(f\"{temp_json_results_dir}/temp_results_{j}_{r}_{m}.json\") as f:\n",
    "#                     d = json.load(f)\n",
    "#                 tau = list(d.values())[0][0]\n",
    "#                 dic[combstr].append(tau)\n",
    "#             except:\n",
    "#                 not_available_count += 1\n",
    "#                 fname = f\"{j} {r} {m}\"\n",
    "#                 not_available_fnames.append(fname)\n",
    "#                 dic[combstr].append(np.nan)\n",
    "\n",
    "# print(f\"not available: {not_available_count}\")\n",
    "# with open('results/cp_results.json', \"w\") as file:\n",
    "#         json.dump(dic, file, indent=4)"
   ]
  },
  {
   "cell_type": "code",
   "execution_count": 11,
   "metadata": {},
   "outputs": [],
   "source": [
    "# with open(not_available_fnames_file, \"w\") as f:\n",
    "#     for item in not_available_fnames:\n",
    "#         f.write(f\"{item}\\n\")"
   ]
  },
  {
   "cell_type": "code",
   "execution_count": 12,
   "metadata": {},
   "outputs": [],
   "source": [
    "# with open(not_available_fnames_file, 'r') as f: \n",
    "#     loaded_list = [l.strip() for l in f]\n",
    "# loaded_list"
   ]
  },
  {
   "cell_type": "code",
   "execution_count": 13,
   "metadata": {},
   "outputs": [],
   "source": [
    "# js = [50, 200, 500]\n",
    "# rs = [0.1, 0.25, 0.5, 0.75, 0.9]\n",
    "# num_of_datasets_per_combination = 50\n",
    "# alist = [\n",
    "#         f\"{int(j*r)}|{j}_{m}\"\n",
    "#         for j in js\n",
    "#         for r in rs\n",
    "#         for m in range(num_of_datasets_per_combination)\n",
    "#     ]"
   ]
  },
  {
   "cell_type": "code",
   "execution_count": 14,
   "metadata": {},
   "outputs": [],
   "source": [
    "# alist"
   ]
  },
  {
   "cell_type": "code",
   "execution_count": 15,
   "metadata": {},
   "outputs": [],
   "source": [
    "# with open('temp_json_results/temp_results_50_0.1_0.json') as f:\n",
    "#     d = json.load(f)\n",
    "#     print(d)\n",
    "# print(list(d.values())[0][0])"
   ]
  },
  {
   "cell_type": "code",
   "execution_count": 16,
   "metadata": {},
   "outputs": [],
   "source": [
    "# # Define the ranges\n",
    "\n",
    "# j_values = [50, 200, 500]\n",
    "# r_values = [0.1, 0.25, 0.5, 0.75, 0.9]\n",
    "# m_values = range(50)  # From 0 to 49 (inclusive)\n",
    "# # Generate all combinations\n",
    "# combinations = [f\"{j} {r} {m}\" for j in j_values for r in r_values for m in m_values]\n",
    "\n",
    "# all_combinations_file = 'all_combinatinos.txt'\n",
    "# with open(all_combinations_file, \"w\") as f:\n",
    "#     for item in combinations:\n",
    "#         f.write(f\"{item}\\n\")\n",
    "# # # Print the result\n",
    "# # for combo in combinations:\n",
    "# #     print(combo)"
   ]
  },
  {
   "cell_type": "code",
   "execution_count": 17,
   "metadata": {},
   "outputs": [],
   "source": [
    "# n_shuffle = 2\n",
    "# iterations = 100\n",
    "# burn_in = 10\n",
    "# thining = 2"
   ]
  },
  {
   "cell_type": "code",
   "execution_count": 2,
   "metadata": {},
   "outputs": [
    {
     "data": {
      "text/html": [
       "<div>\n",
       "<style scoped>\n",
       "    .dataframe tbody tr th:only-of-type {\n",
       "        vertical-align: middle;\n",
       "    }\n",
       "\n",
       "    .dataframe tbody tr th {\n",
       "        vertical-align: top;\n",
       "    }\n",
       "\n",
       "    .dataframe thead th {\n",
       "        text-align: right;\n",
       "    }\n",
       "</style>\n",
       "<table border=\"1\" class=\"dataframe\">\n",
       "  <thead>\n",
       "    <tr style=\"text-align: right;\">\n",
       "      <th></th>\n",
       "      <th>participant</th>\n",
       "      <th>biomarker</th>\n",
       "      <th>measurement</th>\n",
       "      <th>diseased</th>\n",
       "    </tr>\n",
       "  </thead>\n",
       "  <tbody>\n",
       "    <tr>\n",
       "      <th>32</th>\n",
       "      <td>32</td>\n",
       "      <td>HIP-FCI (1)</td>\n",
       "      <td>-7.908987</td>\n",
       "      <td>True</td>\n",
       "    </tr>\n",
       "    <tr>\n",
       "      <th>19</th>\n",
       "      <td>19</td>\n",
       "      <td>HIP-FCI (1)</td>\n",
       "      <td>-14.277039</td>\n",
       "      <td>True</td>\n",
       "    </tr>\n",
       "    <tr>\n",
       "      <th>27</th>\n",
       "      <td>27</td>\n",
       "      <td>HIP-FCI (1)</td>\n",
       "      <td>-15.195244</td>\n",
       "      <td>True</td>\n",
       "    </tr>\n",
       "    <tr>\n",
       "      <th>42</th>\n",
       "      <td>42</td>\n",
       "      <td>HIP-FCI (1)</td>\n",
       "      <td>-7.632697</td>\n",
       "      <td>True</td>\n",
       "    </tr>\n",
       "    <tr>\n",
       "      <th>6</th>\n",
       "      <td>6</td>\n",
       "      <td>HIP-FCI (1)</td>\n",
       "      <td>-0.810355</td>\n",
       "      <td>True</td>\n",
       "    </tr>\n",
       "    <tr>\n",
       "      <th>11</th>\n",
       "      <td>11</td>\n",
       "      <td>HIP-FCI (1)</td>\n",
       "      <td>-1.043535</td>\n",
       "      <td>True</td>\n",
       "    </tr>\n",
       "    <tr>\n",
       "      <th>45</th>\n",
       "      <td>45</td>\n",
       "      <td>HIP-FCI (1)</td>\n",
       "      <td>-8.393027</td>\n",
       "      <td>True</td>\n",
       "    </tr>\n",
       "    <tr>\n",
       "      <th>10</th>\n",
       "      <td>10</td>\n",
       "      <td>HIP-FCI (1)</td>\n",
       "      <td>-7.133949</td>\n",
       "      <td>True</td>\n",
       "    </tr>\n",
       "    <tr>\n",
       "      <th>33</th>\n",
       "      <td>33</td>\n",
       "      <td>HIP-FCI (1)</td>\n",
       "      <td>1.748016</td>\n",
       "      <td>True</td>\n",
       "    </tr>\n",
       "    <tr>\n",
       "      <th>29</th>\n",
       "      <td>29</td>\n",
       "      <td>HIP-FCI (1)</td>\n",
       "      <td>-5.924985</td>\n",
       "      <td>True</td>\n",
       "    </tr>\n",
       "  </tbody>\n",
       "</table>\n",
       "</div>"
      ],
      "text/plain": [
       "    participant    biomarker  measurement  diseased\n",
       "32           32  HIP-FCI (1)    -7.908987      True\n",
       "19           19  HIP-FCI (1)   -14.277039      True\n",
       "27           27  HIP-FCI (1)   -15.195244      True\n",
       "42           42  HIP-FCI (1)    -7.632697      True\n",
       "6             6  HIP-FCI (1)    -0.810355      True\n",
       "11           11  HIP-FCI (1)    -1.043535      True\n",
       "45           45  HIP-FCI (1)    -8.393027      True\n",
       "10           10  HIP-FCI (1)    -7.133949      True\n",
       "33           33  HIP-FCI (1)     1.748016      True\n",
       "29           29  HIP-FCI (1)    -5.924985      True"
      ]
     },
     "execution_count": 2,
     "metadata": {},
     "output_type": "execute_result"
    }
   ],
   "source": [
    "data = pd.read_csv(\"data/5|50_2.csv\")\n",
    "data.head()\n",
    "n_biomarkers = len(data.biomarker.unique())\n",
    "biomarker_df = data[data['biomarker'] == \"HIP-FCI (1)\"].reset_index(drop=True)\n",
    "biomarker_df.sample(10)"
   ]
  },
  {
   "cell_type": "code",
   "execution_count": 3,
   "metadata": {},
   "outputs": [],
   "source": [
    "from new_utils import compute_theta_phi_for_biomarker "
   ]
  },
  {
   "cell_type": "code",
   "execution_count": 5,
   "metadata": {},
   "outputs": [
    {
     "data": {
      "text/plain": [
       "(np.float64(-9.497793732193427),\n",
       " np.float64(3.779865388878283),\n",
       " np.float64(0.7903980182975734),\n",
       " np.float64(2.887201959751567))"
      ]
     },
     "execution_count": 5,
     "metadata": {},
     "output_type": "execute_result"
    }
   ],
   "source": [
    "compute_theta_phi_for_biomarker(biomarker_df)"
   ]
  },
  {
   "cell_type": "code",
   "execution_count": 6,
   "metadata": {},
   "outputs": [
    {
     "data": {
      "text/plain": [
       "array([3, 2])"
      ]
     },
     "execution_count": 6,
     "metadata": {},
     "output_type": "execute_result"
    }
   ],
   "source": [
    "a = [0,0,1,1,0]\n",
    "cluster_counts = np.bincount(a)\n",
    "cluster_counts"
   ]
  },
  {
   "cell_type": "code",
   "execution_count": 4,
   "metadata": {},
   "outputs": [],
   "source": [
    "# n_init_value = int(50)\n",
    "# clustering_setup = KMeans(n_clusters=2, n_init=n_init_value)\n",
    "\n",
    "# # you need to make sure each measurment is a np.array before putting it into \"fit\"\n",
    "# measurements = np.array(biomarker_df['measurement']).reshape(-1, 1)\n",
    "\n",
    "# # Fit clustering method\n",
    "# clustering_result = clustering_setup.fit(measurements)\n",
    "# predictions = clustering_result.labels_"
   ]
  },
  {
   "cell_type": "code",
   "execution_count": 5,
   "metadata": {},
   "outputs": [
    {
     "data": {
      "text/plain": [
       "array([1, 0, 0, 0, 1, 0, 0, 1, 1, 0, 1, 0, 0, 1, 0, 1, 1, 0, 0, 1, 1, 1,\n",
       "       0, 0, 1, 0, 0, 1, 0, 1, 1, 1, 1, 0, 0, 0, 0, 0, 1, 0, 1, 1, 1, 1,\n",
       "       0, 1, 1, 1, 0, 0], dtype=int32)"
      ]
     },
     "execution_count": 5,
     "metadata": {},
     "output_type": "execute_result"
    }
   ],
   "source": [
    "# predictions"
   ]
  },
  {
   "cell_type": "code",
   "execution_count": 7,
   "metadata": {},
   "outputs": [
    {
     "data": {
      "text/plain": [
       "array([25, 25])"
      ]
     },
     "execution_count": 7,
     "metadata": {},
     "output_type": "execute_result"
    }
   ],
   "source": [
    "# counts = np.bincount(predictions)\n",
    "# counts"
   ]
  },
  {
   "cell_type": "code",
   "execution_count": 28,
   "metadata": {},
   "outputs": [
    {
     "data": {
      "text/plain": [
       "True"
      ]
     },
     "execution_count": 28,
     "metadata": {},
     "output_type": "execute_result"
    }
   ],
   "source": [
    "# all(count > 1 for count in counts)"
   ]
  },
  {
   "cell_type": "code",
   "execution_count": 24,
   "metadata": {},
   "outputs": [],
   "source": [
    "# # dataframe for non-diseased participants\n",
    "# healthy_df = biomarker_df[biomarker_df['diseased'] == False]\n",
    "# diseased_df = biomarker_df[biomarker_df['diseased'] == True]\n",
    "# # healthy_measurements = np.array(healthy_df['measurement']).reshape(-1, 1)\n",
    "# # which cluster are healthy participants in\n",
    "# healthy_predictions = predictions[healthy_df.index]\n",
    "# diseased_predictions = predictions[diseased_df.index]"
   ]
  },
  {
   "cell_type": "code",
   "execution_count": 25,
   "metadata": {},
   "outputs": [
    {
     "data": {
      "text/plain": [
       "(array([1, 1, 1, 1, 1], dtype=int32),\n",
       " array([0, 1, 1, 0, 1, 1, 0, 0, 1, 0, 1, 0, 1, 0, 0, 1, 1, 0, 0, 0, 1, 1,\n",
       "        0, 1, 1, 0, 0, 0, 0, 0, 1, 1, 1, 1, 0, 0, 0, 0, 0, 1, 0, 0, 0, 1,\n",
       "        1], dtype=int32))"
      ]
     },
     "execution_count": 25,
     "metadata": {},
     "output_type": "execute_result"
    }
   ],
   "source": [
    "# healthy_predictions, diseased_predictions"
   ]
  },
  {
   "cell_type": "markdown",
   "metadata": {},
   "source": [
    "## Constrained kmeans"
   ]
  },
  {
   "cell_type": "code",
   "execution_count": 8,
   "metadata": {},
   "outputs": [],
   "source": [
    "healthy_df = biomarker_df[biomarker_df['diseased'] == False]\n",
    "diseased_df = biomarker_df[biomarker_df['diseased'] == True]\n",
    "measurements = np.array(biomarker_df['measurement']).reshape(-1, 1)"
   ]
  },
  {
   "cell_type": "code",
   "execution_count": 12,
   "metadata": {},
   "outputs": [],
   "source": [
    "healthy_indices = list(healthy_df.index)\n",
    "diseased_indices = list(diseased_df.index)"
   ]
  },
  {
   "cell_type": "code",
   "execution_count": 13,
   "metadata": {},
   "outputs": [
    {
     "data": {
      "text/plain": [
       "([1, 12, 28, 35, 39],\n",
       " [0,\n",
       "  2,\n",
       "  3,\n",
       "  4,\n",
       "  5,\n",
       "  6,\n",
       "  7,\n",
       "  8,\n",
       "  9,\n",
       "  10,\n",
       "  11,\n",
       "  13,\n",
       "  14,\n",
       "  15,\n",
       "  16,\n",
       "  17,\n",
       "  18,\n",
       "  19,\n",
       "  20,\n",
       "  21,\n",
       "  22,\n",
       "  23,\n",
       "  24,\n",
       "  25,\n",
       "  26,\n",
       "  27,\n",
       "  29,\n",
       "  30,\n",
       "  31,\n",
       "  32,\n",
       "  33,\n",
       "  34,\n",
       "  36,\n",
       "  37,\n",
       "  38,\n",
       "  40,\n",
       "  41,\n",
       "  42,\n",
       "  43,\n",
       "  44,\n",
       "  45,\n",
       "  46,\n",
       "  47,\n",
       "  48,\n",
       "  49])"
      ]
     },
     "execution_count": 13,
     "metadata": {},
     "output_type": "execute_result"
    }
   ],
   "source": [
    "healthy_indices, diseased_indices"
   ]
  },
  {
   "cell_type": "code",
   "execution_count": 14,
   "metadata": {},
   "outputs": [],
   "source": [
    "must_link = [\n",
    "    (healthy_indices[i], healthy_indices[i+1]) for i in range(\n",
    "        len(healthy_indices) - 1)]\n",
    "cannot_link = [(h, d) for h in healthy_indices for d in diseased_indices]"
   ]
  },
  {
   "cell_type": "code",
   "execution_count": 15,
   "metadata": {},
   "outputs": [
    {
     "data": {
      "text/plain": [
       "[(1, 12), (12, 28), (28, 35), (35, 39)]"
      ]
     },
     "execution_count": 15,
     "metadata": {},
     "output_type": "execute_result"
    }
   ],
   "source": [
    "must_link"
   ]
  },
  {
   "cell_type": "code",
   "execution_count": 16,
   "metadata": {},
   "outputs": [
    {
     "data": {
      "text/plain": [
       "[(1, 0),\n",
       " (1, 2),\n",
       " (1, 3),\n",
       " (1, 4),\n",
       " (1, 5),\n",
       " (1, 6),\n",
       " (1, 7),\n",
       " (1, 8),\n",
       " (1, 9),\n",
       " (1, 10),\n",
       " (1, 11),\n",
       " (1, 13),\n",
       " (1, 14),\n",
       " (1, 15),\n",
       " (1, 16),\n",
       " (1, 17),\n",
       " (1, 18),\n",
       " (1, 19),\n",
       " (1, 20),\n",
       " (1, 21),\n",
       " (1, 22),\n",
       " (1, 23),\n",
       " (1, 24),\n",
       " (1, 25),\n",
       " (1, 26),\n",
       " (1, 27),\n",
       " (1, 29),\n",
       " (1, 30),\n",
       " (1, 31),\n",
       " (1, 32),\n",
       " (1, 33),\n",
       " (1, 34),\n",
       " (1, 36),\n",
       " (1, 37),\n",
       " (1, 38),\n",
       " (1, 40),\n",
       " (1, 41),\n",
       " (1, 42),\n",
       " (1, 43),\n",
       " (1, 44),\n",
       " (1, 45),\n",
       " (1, 46),\n",
       " (1, 47),\n",
       " (1, 48),\n",
       " (1, 49),\n",
       " (12, 0),\n",
       " (12, 2),\n",
       " (12, 3),\n",
       " (12, 4),\n",
       " (12, 5),\n",
       " (12, 6),\n",
       " (12, 7),\n",
       " (12, 8),\n",
       " (12, 9),\n",
       " (12, 10),\n",
       " (12, 11),\n",
       " (12, 13),\n",
       " (12, 14),\n",
       " (12, 15),\n",
       " (12, 16),\n",
       " (12, 17),\n",
       " (12, 18),\n",
       " (12, 19),\n",
       " (12, 20),\n",
       " (12, 21),\n",
       " (12, 22),\n",
       " (12, 23),\n",
       " (12, 24),\n",
       " (12, 25),\n",
       " (12, 26),\n",
       " (12, 27),\n",
       " (12, 29),\n",
       " (12, 30),\n",
       " (12, 31),\n",
       " (12, 32),\n",
       " (12, 33),\n",
       " (12, 34),\n",
       " (12, 36),\n",
       " (12, 37),\n",
       " (12, 38),\n",
       " (12, 40),\n",
       " (12, 41),\n",
       " (12, 42),\n",
       " (12, 43),\n",
       " (12, 44),\n",
       " (12, 45),\n",
       " (12, 46),\n",
       " (12, 47),\n",
       " (12, 48),\n",
       " (12, 49),\n",
       " (28, 0),\n",
       " (28, 2),\n",
       " (28, 3),\n",
       " (28, 4),\n",
       " (28, 5),\n",
       " (28, 6),\n",
       " (28, 7),\n",
       " (28, 8),\n",
       " (28, 9),\n",
       " (28, 10),\n",
       " (28, 11),\n",
       " (28, 13),\n",
       " (28, 14),\n",
       " (28, 15),\n",
       " (28, 16),\n",
       " (28, 17),\n",
       " (28, 18),\n",
       " (28, 19),\n",
       " (28, 20),\n",
       " (28, 21),\n",
       " (28, 22),\n",
       " (28, 23),\n",
       " (28, 24),\n",
       " (28, 25),\n",
       " (28, 26),\n",
       " (28, 27),\n",
       " (28, 29),\n",
       " (28, 30),\n",
       " (28, 31),\n",
       " (28, 32),\n",
       " (28, 33),\n",
       " (28, 34),\n",
       " (28, 36),\n",
       " (28, 37),\n",
       " (28, 38),\n",
       " (28, 40),\n",
       " (28, 41),\n",
       " (28, 42),\n",
       " (28, 43),\n",
       " (28, 44),\n",
       " (28, 45),\n",
       " (28, 46),\n",
       " (28, 47),\n",
       " (28, 48),\n",
       " (28, 49),\n",
       " (35, 0),\n",
       " (35, 2),\n",
       " (35, 3),\n",
       " (35, 4),\n",
       " (35, 5),\n",
       " (35, 6),\n",
       " (35, 7),\n",
       " (35, 8),\n",
       " (35, 9),\n",
       " (35, 10),\n",
       " (35, 11),\n",
       " (35, 13),\n",
       " (35, 14),\n",
       " (35, 15),\n",
       " (35, 16),\n",
       " (35, 17),\n",
       " (35, 18),\n",
       " (35, 19),\n",
       " (35, 20),\n",
       " (35, 21),\n",
       " (35, 22),\n",
       " (35, 23),\n",
       " (35, 24),\n",
       " (35, 25),\n",
       " (35, 26),\n",
       " (35, 27),\n",
       " (35, 29),\n",
       " (35, 30),\n",
       " (35, 31),\n",
       " (35, 32),\n",
       " (35, 33),\n",
       " (35, 34),\n",
       " (35, 36),\n",
       " (35, 37),\n",
       " (35, 38),\n",
       " (35, 40),\n",
       " (35, 41),\n",
       " (35, 42),\n",
       " (35, 43),\n",
       " (35, 44),\n",
       " (35, 45),\n",
       " (35, 46),\n",
       " (35, 47),\n",
       " (35, 48),\n",
       " (35, 49),\n",
       " (39, 0),\n",
       " (39, 2),\n",
       " (39, 3),\n",
       " (39, 4),\n",
       " (39, 5),\n",
       " (39, 6),\n",
       " (39, 7),\n",
       " (39, 8),\n",
       " (39, 9),\n",
       " (39, 10),\n",
       " (39, 11),\n",
       " (39, 13),\n",
       " (39, 14),\n",
       " (39, 15),\n",
       " (39, 16),\n",
       " (39, 17),\n",
       " (39, 18),\n",
       " (39, 19),\n",
       " (39, 20),\n",
       " (39, 21),\n",
       " (39, 22),\n",
       " (39, 23),\n",
       " (39, 24),\n",
       " (39, 25),\n",
       " (39, 26),\n",
       " (39, 27),\n",
       " (39, 29),\n",
       " (39, 30),\n",
       " (39, 31),\n",
       " (39, 32),\n",
       " (39, 33),\n",
       " (39, 34),\n",
       " (39, 36),\n",
       " (39, 37),\n",
       " (39, 38),\n",
       " (39, 40),\n",
       " (39, 41),\n",
       " (39, 42),\n",
       " (39, 43),\n",
       " (39, 44),\n",
       " (39, 45),\n",
       " (39, 46),\n",
       " (39, 47),\n",
       " (39, 48),\n",
       " (39, 49)]"
      ]
     },
     "execution_count": 16,
     "metadata": {},
     "output_type": "execute_result"
    }
   ],
   "source": [
    "cannot_link"
   ]
  },
  {
   "cell_type": "code",
   "execution_count": 14,
   "metadata": {},
   "outputs": [],
   "source": [
    "# input_matrix = np.random.rand(100, 1)\n",
    "# input_matrix"
   ]
  },
  {
   "cell_type": "code",
   "execution_count": 7,
   "metadata": {},
   "outputs": [],
   "source": [
    "clusters, centers = cop_kmeans(dataset=measurements, k=2, ml=must_link)\n",
    "predictions = np.array(clusters)"
   ]
  },
  {
   "cell_type": "code",
   "execution_count": 8,
   "metadata": {},
   "outputs": [
    {
     "data": {
      "text/plain": [
       "array([1, 1, 0, 0, 1, 1, 0, 1, 1, 0, 1, 0, 1, 1, 0, 1, 1, 0, 0, 1, 1, 1,\n",
       "       0, 0, 1, 0, 0, 1, 1, 1, 1, 1, 1, 0, 0, 1, 0, 0, 1, 1, 1, 1, 1, 1,\n",
       "       0, 1, 1, 1, 0, 0])"
      ]
     },
     "execution_count": 8,
     "metadata": {},
     "output_type": "execute_result"
    }
   ],
   "source": [
    "predictions"
   ]
  },
  {
   "cell_type": "code",
   "execution_count": 30,
   "metadata": {},
   "outputs": [],
   "source": [
    "healthy_predictions = predictions[healthy_df.index]\n",
    "diseased_predictions = predictions[diseased_df.index]"
   ]
  },
  {
   "cell_type": "code",
   "execution_count": 31,
   "metadata": {},
   "outputs": [
    {
     "data": {
      "text/plain": [
       "array([1, 1, 1, 1, 1])"
      ]
     },
     "execution_count": 31,
     "metadata": {},
     "output_type": "execute_result"
    }
   ],
   "source": [
    "healthy_predictions"
   ]
  },
  {
   "cell_type": "code",
   "execution_count": 7,
   "metadata": {},
   "outputs": [],
   "source": [
    "# all_current_accepted_order_dicts = soft_kmeans_alg.metropolis_hastings_soft_kmeans(\n",
    "#     data,\n",
    "#     iterations,\n",
    "#     n_shuffle,\n",
    "# )"
   ]
  },
  {
   "cell_type": "code",
   "execution_count": 8,
   "metadata": {},
   "outputs": [],
   "source": [
    "# new_utils.save_heatmap(all_current_accepted_order_dicts,\n",
    "#                        burn_in, thining, folder_name='img',\n",
    "#                        file_name='test_heatmap', title='heatmap')"
   ]
  },
  {
   "cell_type": "code",
   "execution_count": 9,
   "metadata": {},
   "outputs": [],
   "source": [
    "# most_likely_order_dic = new_utils.obtain_most_likely_order_dic(\n",
    "#     all_current_accepted_order_dicts, burn_in, thining)\n",
    "# most_likely_order = list(most_likely_order_dic.values())\n",
    "# tau, p_value = kendalltau(most_likely_order, range(1, n_biomarkers + 1))\n",
    "# dic = {}\n",
    "# dic['5|50'] = []\n",
    "# dic['5|50'].append(tau)\n",
    "# # write the JSON to a file\n",
    "# with open(\"results.json\", \"w\") as file:\n",
    "#     json.dump(dic, file, indent=4)"
   ]
  },
  {
   "cell_type": "code",
   "execution_count": 10,
   "metadata": {},
   "outputs": [],
   "source": [
    "# new_utils.get_theta_phi_estimates(data)"
   ]
  },
  {
   "cell_type": "code",
   "execution_count": 11,
   "metadata": {},
   "outputs": [],
   "source": [
    "# biomarker_df.measurement.values"
   ]
  },
  {
   "cell_type": "code",
   "execution_count": 12,
   "metadata": {},
   "outputs": [],
   "source": [
    "# # reshape to satisfy sklearn requirements\n",
    "# measurements = np.array(biomarker_df['measurement']).reshape(-1, 1)\n",
    "\n",
    "# # dataframe for non-diseased participants\n",
    "# healthy_df = biomarker_df[biomarker_df['diseased'] == False]\n"
   ]
  },
  {
   "cell_type": "code",
   "execution_count": 13,
   "metadata": {},
   "outputs": [],
   "source": [
    "# kmeans_setup = KMeans(2, random_state=0, n_init=\"auto\")\n",
    "# hierarchical_clustering_setup = AgglomerativeClustering(n_clusters=2)"
   ]
  },
  {
   "cell_type": "code",
   "execution_count": 14,
   "metadata": {},
   "outputs": [],
   "source": [
    "# clustering_result_kmeans = kmeans_setup.fit(measurements)\n",
    "# clustering_result_kmeans.labels_"
   ]
  },
  {
   "cell_type": "code",
   "execution_count": 15,
   "metadata": {},
   "outputs": [],
   "source": [
    "# clustering_result_kmeans.predict(measurements)"
   ]
  },
  {
   "cell_type": "code",
   "execution_count": 16,
   "metadata": {},
   "outputs": [],
   "source": [
    "# theta_mean, theta_std, phi_mean, phi_std = utils.compute_theta_phi_for_biomarker(\n",
    "#     data, \"HIP-FCI (1)\", clustering_setup = None)"
   ]
  },
  {
   "cell_type": "code",
   "execution_count": 17,
   "metadata": {},
   "outputs": [],
   "source": [
    "# theta_mean, theta_std, phi_mean, phi_std"
   ]
  },
  {
   "cell_type": "code",
   "execution_count": 18,
   "metadata": {},
   "outputs": [],
   "source": [
    "# biomarkers = data.biomarker.unique()\n",
    "# utils.get_theta_phi_estimates(data, biomarkers)"
   ]
  }
 ],
 "metadata": {
  "kernelspec": {
   "display_name": "bayes",
   "language": "python",
   "name": "python3"
  },
  "language_info": {
   "codemirror_mode": {
    "name": "ipython",
    "version": 3
   },
   "file_extension": ".py",
   "mimetype": "text/x-python",
   "name": "python",
   "nbconvert_exporter": "python",
   "pygments_lexer": "ipython3",
   "version": "3.9.20"
  }
 },
 "nbformat": 4,
 "nbformat_minor": 2
}
