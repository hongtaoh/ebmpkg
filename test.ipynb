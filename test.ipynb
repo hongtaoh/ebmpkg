{
 "cells": [
  {
   "cell_type": "code",
   "execution_count": 2,
   "metadata": {},
   "outputs": [],
   "source": [
    "import json \n",
    "import pandas as pd \n",
    "import soft_kmeans_alg \n",
    "import new_utils \n",
    "import json \n",
    "import numpy as np \n",
    "from scipy.stats import kendalltau\n",
    "from scipy.stats import mode\n",
    "from sklearn.cluster import KMeans\n",
    "from sklearn.cluster import AgglomerativeClustering\n",
    "from copkmeans.cop_kmeans import cop_kmeans"
   ]
  },
  {
   "cell_type": "code",
   "execution_count": 10,
   "metadata": {},
   "outputs": [],
   "source": [
    "# j_values = [50, 200, 500]\n",
    "# r_values = [0.1, 0.25, 0.5, 0.75, 0.9]\n",
    "# m_values = range(50)  # From 0 to 49 (inclusive)\n",
    "# temp_json_results_dir = 'temp_json_results/conjugate_priors'\n",
    "# not_available_fnames_file = 'results/not_available_fnames.txt'\n",
    "\n",
    "# dic = {}\n",
    "# dic['param'] = {\n",
    "#     \"num_of_datasets_per_combination\": 50,\n",
    "#     \"n_iter\": 5000,\n",
    "#     \"n_biomarkers\": 10\n",
    "# }\n",
    "# not_available_fnames = []\n",
    "# not_available_count = 0\n",
    "# for j in j_values:\n",
    "#     for r in r_values:\n",
    "#         combstr = f\"{int(j*r)}|{j}\"\n",
    "#         if combstr not in dic:\n",
    "#             dic[combstr] = []\n",
    "#         for m in m_values:\n",
    "#             try:\n",
    "#                 with open(f\"{temp_json_results_dir}/temp_results_{j}_{r}_{m}.json\") as f:\n",
    "#                     d = json.load(f)\n",
    "#                 tau = list(d.values())[0][0]\n",
    "#                 dic[combstr].append(tau)\n",
    "#             except:\n",
    "#                 not_available_count += 1\n",
    "#                 fname = f\"{j} {r} {m}\"\n",
    "#                 not_available_fnames.append(fname)\n",
    "#                 dic[combstr].append(np.nan)\n",
    "\n",
    "# print(f\"not available: {not_available_count}\")\n",
    "# with open('results/cp_results.json', \"w\") as file:\n",
    "#         json.dump(dic, file, indent=4)"
   ]
  },
  {
   "cell_type": "code",
   "execution_count": 11,
   "metadata": {},
   "outputs": [],
   "source": [
    "# with open(not_available_fnames_file, \"w\") as f:\n",
    "#     for item in not_available_fnames:\n",
    "#         f.write(f\"{item}\\n\")"
   ]
  },
  {
   "cell_type": "code",
   "execution_count": 12,
   "metadata": {},
   "outputs": [],
   "source": [
    "# with open(not_available_fnames_file, 'r') as f: \n",
    "#     loaded_list = [l.strip() for l in f]\n",
    "# loaded_list"
   ]
  },
  {
   "cell_type": "code",
   "execution_count": 13,
   "metadata": {},
   "outputs": [],
   "source": [
    "# js = [50, 200, 500]\n",
    "# rs = [0.1, 0.25, 0.5, 0.75, 0.9]\n",
    "# num_of_datasets_per_combination = 50\n",
    "# alist = [\n",
    "#         f\"{int(j*r)}|{j}_{m}\"\n",
    "#         for j in js\n",
    "#         for r in rs\n",
    "#         for m in range(num_of_datasets_per_combination)\n",
    "#     ]"
   ]
  },
  {
   "cell_type": "code",
   "execution_count": 14,
   "metadata": {},
   "outputs": [],
   "source": [
    "# alist"
   ]
  },
  {
   "cell_type": "code",
   "execution_count": 15,
   "metadata": {},
   "outputs": [],
   "source": [
    "# with open('temp_json_results/temp_results_50_0.1_0.json') as f:\n",
    "#     d = json.load(f)\n",
    "#     print(d)\n",
    "# print(list(d.values())[0][0])"
   ]
  },
  {
   "cell_type": "code",
   "execution_count": 16,
   "metadata": {},
   "outputs": [],
   "source": [
    "# # Define the ranges\n",
    "\n",
    "# j_values = [50, 200, 500]\n",
    "# r_values = [0.1, 0.25, 0.5, 0.75, 0.9]\n",
    "# m_values = range(50)  # From 0 to 49 (inclusive)\n",
    "# # Generate all combinations\n",
    "# combinations = [f\"{j} {r} {m}\" for j in j_values for r in r_values for m in m_values]\n",
    "\n",
    "# all_combinations_file = 'all_combinatinos.txt'\n",
    "# with open(all_combinations_file, \"w\") as f:\n",
    "#     for item in combinations:\n",
    "#         f.write(f\"{item}\\n\")\n",
    "# # # Print the result\n",
    "# # for combo in combinations:\n",
    "# #     print(combo)"
   ]
  },
  {
   "cell_type": "code",
   "execution_count": 17,
   "metadata": {},
   "outputs": [],
   "source": [
    "# n_shuffle = 2\n",
    "# iterations = 100\n",
    "# burn_in = 10\n",
    "# thining = 2"
   ]
  },
  {
   "cell_type": "code",
   "execution_count": 3,
   "metadata": {},
   "outputs": [
    {
     "data": {
      "text/html": [
       "<div>\n",
       "<style scoped>\n",
       "    .dataframe tbody tr th:only-of-type {\n",
       "        vertical-align: middle;\n",
       "    }\n",
       "\n",
       "    .dataframe tbody tr th {\n",
       "        vertical-align: top;\n",
       "    }\n",
       "\n",
       "    .dataframe thead th {\n",
       "        text-align: right;\n",
       "    }\n",
       "</style>\n",
       "<table border=\"1\" class=\"dataframe\">\n",
       "  <thead>\n",
       "    <tr style=\"text-align: right;\">\n",
       "      <th></th>\n",
       "      <th>participant</th>\n",
       "      <th>biomarker</th>\n",
       "      <th>measurement</th>\n",
       "      <th>diseased</th>\n",
       "    </tr>\n",
       "  </thead>\n",
       "  <tbody>\n",
       "    <tr>\n",
       "      <th>6</th>\n",
       "      <td>6</td>\n",
       "      <td>HIP-FCI (1)</td>\n",
       "      <td>-0.810355</td>\n",
       "      <td>True</td>\n",
       "    </tr>\n",
       "    <tr>\n",
       "      <th>15</th>\n",
       "      <td>15</td>\n",
       "      <td>HIP-FCI (1)</td>\n",
       "      <td>-9.149381</td>\n",
       "      <td>True</td>\n",
       "    </tr>\n",
       "    <tr>\n",
       "      <th>7</th>\n",
       "      <td>7</td>\n",
       "      <td>HIP-FCI (1)</td>\n",
       "      <td>-16.961797</td>\n",
       "      <td>True</td>\n",
       "    </tr>\n",
       "    <tr>\n",
       "      <th>35</th>\n",
       "      <td>35</td>\n",
       "      <td>HIP-FCI (1)</td>\n",
       "      <td>2.340052</td>\n",
       "      <td>False</td>\n",
       "    </tr>\n",
       "    <tr>\n",
       "      <th>43</th>\n",
       "      <td>43</td>\n",
       "      <td>HIP-FCI (1)</td>\n",
       "      <td>-14.110980</td>\n",
       "      <td>True</td>\n",
       "    </tr>\n",
       "    <tr>\n",
       "      <th>30</th>\n",
       "      <td>30</td>\n",
       "      <td>HIP-FCI (1)</td>\n",
       "      <td>-7.951836</td>\n",
       "      <td>True</td>\n",
       "    </tr>\n",
       "    <tr>\n",
       "      <th>46</th>\n",
       "      <td>46</td>\n",
       "      <td>HIP-FCI (1)</td>\n",
       "      <td>-8.622931</td>\n",
       "      <td>True</td>\n",
       "    </tr>\n",
       "    <tr>\n",
       "      <th>2</th>\n",
       "      <td>2</td>\n",
       "      <td>HIP-FCI (1)</td>\n",
       "      <td>4.281634</td>\n",
       "      <td>True</td>\n",
       "    </tr>\n",
       "    <tr>\n",
       "      <th>22</th>\n",
       "      <td>22</td>\n",
       "      <td>HIP-FCI (1)</td>\n",
       "      <td>-2.216792</td>\n",
       "      <td>True</td>\n",
       "    </tr>\n",
       "    <tr>\n",
       "      <th>13</th>\n",
       "      <td>13</td>\n",
       "      <td>HIP-FCI (1)</td>\n",
       "      <td>-13.139134</td>\n",
       "      <td>True</td>\n",
       "    </tr>\n",
       "  </tbody>\n",
       "</table>\n",
       "</div>"
      ],
      "text/plain": [
       "    participant    biomarker  measurement  diseased\n",
       "6             6  HIP-FCI (1)    -0.810355      True\n",
       "15           15  HIP-FCI (1)    -9.149381      True\n",
       "7             7  HIP-FCI (1)   -16.961797      True\n",
       "35           35  HIP-FCI (1)     2.340052     False\n",
       "43           43  HIP-FCI (1)   -14.110980      True\n",
       "30           30  HIP-FCI (1)    -7.951836      True\n",
       "46           46  HIP-FCI (1)    -8.622931      True\n",
       "2             2  HIP-FCI (1)     4.281634      True\n",
       "22           22  HIP-FCI (1)    -2.216792      True\n",
       "13           13  HIP-FCI (1)   -13.139134      True"
      ]
     },
     "execution_count": 3,
     "metadata": {},
     "output_type": "execute_result"
    }
   ],
   "source": [
    "data = pd.read_csv(\"data/5|50_2.csv\")\n",
    "data.head()\n",
    "n_biomarkers = len(data.biomarker.unique())\n",
    "biomarker_df = data[data['biomarker'] == \"HIP-FCI (1)\"].reset_index(drop=True)\n",
    "biomarker_df.sample(10)"
   ]
  },
  {
   "cell_type": "code",
   "execution_count": 4,
   "metadata": {},
   "outputs": [],
   "source": [
    "n_init_value = int(10)\n",
    "clustering_setup = KMeans(n_clusters=2, n_init=n_init_value)\n",
    "\n",
    "# you need to make sure each measurment is a np.array before putting it into \"fit\"\n",
    "measurements = np.array(biomarker_df['measurement']).reshape(-1, 1)\n",
    "\n",
    "# Fit clustering method\n",
    "clustering_result = clustering_setup.fit(measurements)\n",
    "predictions = clustering_result.labels_"
   ]
  },
  {
   "cell_type": "code",
   "execution_count": 5,
   "metadata": {},
   "outputs": [
    {
     "data": {
      "text/plain": [
       "array([1, 0, 0, 0, 1, 0, 0, 1, 1, 0, 1, 0, 0, 1, 0, 1, 1, 0, 0, 1, 1, 1,\n",
       "       0, 0, 1, 0, 0, 1, 0, 1, 1, 1, 1, 0, 0, 0, 0, 0, 1, 0, 1, 1, 1, 1,\n",
       "       0, 1, 1, 1, 0, 0], dtype=int32)"
      ]
     },
     "execution_count": 5,
     "metadata": {},
     "output_type": "execute_result"
    }
   ],
   "source": [
    "predictions"
   ]
  },
  {
   "cell_type": "code",
   "execution_count": 7,
   "metadata": {},
   "outputs": [
    {
     "data": {
      "text/plain": [
       "array([25, 25])"
      ]
     },
     "execution_count": 7,
     "metadata": {},
     "output_type": "execute_result"
    }
   ],
   "source": [
    "counts = np.bincount(predictions)\n",
    "counts"
   ]
  },
  {
   "cell_type": "code",
   "execution_count": 28,
   "metadata": {},
   "outputs": [
    {
     "data": {
      "text/plain": [
       "True"
      ]
     },
     "execution_count": 28,
     "metadata": {},
     "output_type": "execute_result"
    }
   ],
   "source": [
    "all(count > 1 for count in counts)"
   ]
  },
  {
   "cell_type": "code",
   "execution_count": 24,
   "metadata": {},
   "outputs": [],
   "source": [
    "# dataframe for non-diseased participants\n",
    "healthy_df = biomarker_df[biomarker_df['diseased'] == False]\n",
    "diseased_df = biomarker_df[biomarker_df['diseased'] == True]\n",
    "# healthy_measurements = np.array(healthy_df['measurement']).reshape(-1, 1)\n",
    "# which cluster are healthy participants in\n",
    "healthy_predictions = predictions[healthy_df.index]\n",
    "diseased_predictions = predictions[diseased_df.index]"
   ]
  },
  {
   "cell_type": "code",
   "execution_count": 25,
   "metadata": {},
   "outputs": [
    {
     "data": {
      "text/plain": [
       "(array([1, 1, 1, 1, 1], dtype=int32),\n",
       " array([0, 1, 1, 0, 1, 1, 0, 0, 1, 0, 1, 0, 1, 0, 0, 1, 1, 0, 0, 0, 1, 1,\n",
       "        0, 1, 1, 0, 0, 0, 0, 0, 1, 1, 1, 1, 0, 0, 0, 0, 0, 1, 0, 0, 0, 1,\n",
       "        1], dtype=int32))"
      ]
     },
     "execution_count": 25,
     "metadata": {},
     "output_type": "execute_result"
    }
   ],
   "source": [
    "healthy_predictions, diseased_predictions"
   ]
  },
  {
   "cell_type": "markdown",
   "metadata": {},
   "source": [
    "## Constrained kmeans"
   ]
  },
  {
   "cell_type": "code",
   "execution_count": 4,
   "metadata": {},
   "outputs": [],
   "source": [
    "healthy_df = biomarker_df[biomarker_df['diseased'] == False]\n",
    "diseased_df = biomarker_df[biomarker_df['diseased'] == True]\n",
    "measurements = np.array(biomarker_df['measurement']).reshape(-1, 1)"
   ]
  },
  {
   "cell_type": "code",
   "execution_count": 5,
   "metadata": {},
   "outputs": [
    {
     "data": {
      "text/plain": [
       "Index([1, 12, 28, 35, 39], dtype='int64')"
      ]
     },
     "execution_count": 5,
     "metadata": {},
     "output_type": "execute_result"
    }
   ],
   "source": [
    "healthy_df.index"
   ]
  },
  {
   "cell_type": "code",
   "execution_count": 6,
   "metadata": {},
   "outputs": [
    {
     "data": {
      "text/plain": [
       "[(1, 0), (12, 0), (28, 0), (35, 0), (39, 0)]"
      ]
     },
     "execution_count": 6,
     "metadata": {},
     "output_type": "execute_result"
    }
   ],
   "source": [
    "must_link = [(x, 0) for x in healthy_df.index]\n",
    "must_link"
   ]
  },
  {
   "cell_type": "code",
   "execution_count": 14,
   "metadata": {},
   "outputs": [],
   "source": [
    "# input_matrix = np.random.rand(100, 1)\n",
    "# input_matrix"
   ]
  },
  {
   "cell_type": "code",
   "execution_count": 7,
   "metadata": {},
   "outputs": [],
   "source": [
    "clusters, centers = cop_kmeans(dataset=measurements, k=2, ml=must_link)\n",
    "predictions = np.array(clusters)"
   ]
  },
  {
   "cell_type": "code",
   "execution_count": 8,
   "metadata": {},
   "outputs": [
    {
     "data": {
      "text/plain": [
       "array([1, 1, 0, 0, 1, 1, 0, 1, 1, 0, 1, 0, 1, 1, 0, 1, 1, 0, 0, 1, 1, 1,\n",
       "       0, 0, 1, 0, 0, 1, 1, 1, 1, 1, 1, 0, 0, 1, 0, 0, 1, 1, 1, 1, 1, 1,\n",
       "       0, 1, 1, 1, 0, 0])"
      ]
     },
     "execution_count": 8,
     "metadata": {},
     "output_type": "execute_result"
    }
   ],
   "source": [
    "predictions"
   ]
  },
  {
   "cell_type": "code",
   "execution_count": 30,
   "metadata": {},
   "outputs": [],
   "source": [
    "healthy_predictions = predictions[healthy_df.index]\n",
    "diseased_predictions = predictions[diseased_df.index]"
   ]
  },
  {
   "cell_type": "code",
   "execution_count": 31,
   "metadata": {},
   "outputs": [
    {
     "data": {
      "text/plain": [
       "array([1, 1, 1, 1, 1])"
      ]
     },
     "execution_count": 31,
     "metadata": {},
     "output_type": "execute_result"
    }
   ],
   "source": [
    "healthy_predictions"
   ]
  },
  {
   "cell_type": "code",
   "execution_count": 7,
   "metadata": {},
   "outputs": [],
   "source": [
    "# all_current_accepted_order_dicts = soft_kmeans_alg.metropolis_hastings_soft_kmeans(\n",
    "#     data,\n",
    "#     iterations,\n",
    "#     n_shuffle,\n",
    "# )"
   ]
  },
  {
   "cell_type": "code",
   "execution_count": 8,
   "metadata": {},
   "outputs": [],
   "source": [
    "# new_utils.save_heatmap(all_current_accepted_order_dicts,\n",
    "#                        burn_in, thining, folder_name='img',\n",
    "#                        file_name='test_heatmap', title='heatmap')"
   ]
  },
  {
   "cell_type": "code",
   "execution_count": 9,
   "metadata": {},
   "outputs": [],
   "source": [
    "# most_likely_order_dic = new_utils.obtain_most_likely_order_dic(\n",
    "#     all_current_accepted_order_dicts, burn_in, thining)\n",
    "# most_likely_order = list(most_likely_order_dic.values())\n",
    "# tau, p_value = kendalltau(most_likely_order, range(1, n_biomarkers + 1))\n",
    "# dic = {}\n",
    "# dic['5|50'] = []\n",
    "# dic['5|50'].append(tau)\n",
    "# # write the JSON to a file\n",
    "# with open(\"results.json\", \"w\") as file:\n",
    "#     json.dump(dic, file, indent=4)"
   ]
  },
  {
   "cell_type": "code",
   "execution_count": 10,
   "metadata": {},
   "outputs": [],
   "source": [
    "# new_utils.get_theta_phi_estimates(data)"
   ]
  },
  {
   "cell_type": "code",
   "execution_count": 11,
   "metadata": {},
   "outputs": [],
   "source": [
    "# biomarker_df.measurement.values"
   ]
  },
  {
   "cell_type": "code",
   "execution_count": 12,
   "metadata": {},
   "outputs": [],
   "source": [
    "# # reshape to satisfy sklearn requirements\n",
    "# measurements = np.array(biomarker_df['measurement']).reshape(-1, 1)\n",
    "\n",
    "# # dataframe for non-diseased participants\n",
    "# healthy_df = biomarker_df[biomarker_df['diseased'] == False]\n"
   ]
  },
  {
   "cell_type": "code",
   "execution_count": 13,
   "metadata": {},
   "outputs": [],
   "source": [
    "# kmeans_setup = KMeans(2, random_state=0, n_init=\"auto\")\n",
    "# hierarchical_clustering_setup = AgglomerativeClustering(n_clusters=2)"
   ]
  },
  {
   "cell_type": "code",
   "execution_count": 14,
   "metadata": {},
   "outputs": [],
   "source": [
    "# clustering_result_kmeans = kmeans_setup.fit(measurements)\n",
    "# clustering_result_kmeans.labels_"
   ]
  },
  {
   "cell_type": "code",
   "execution_count": 15,
   "metadata": {},
   "outputs": [],
   "source": [
    "# clustering_result_kmeans.predict(measurements)"
   ]
  },
  {
   "cell_type": "code",
   "execution_count": 16,
   "metadata": {},
   "outputs": [],
   "source": [
    "# theta_mean, theta_std, phi_mean, phi_std = utils.compute_theta_phi_for_biomarker(\n",
    "#     data, \"HIP-FCI (1)\", clustering_setup = None)"
   ]
  },
  {
   "cell_type": "code",
   "execution_count": 17,
   "metadata": {},
   "outputs": [],
   "source": [
    "# theta_mean, theta_std, phi_mean, phi_std"
   ]
  },
  {
   "cell_type": "code",
   "execution_count": 18,
   "metadata": {},
   "outputs": [],
   "source": [
    "# biomarkers = data.biomarker.unique()\n",
    "# utils.get_theta_phi_estimates(data, biomarkers)"
   ]
  }
 ],
 "metadata": {
  "kernelspec": {
   "display_name": "bayes",
   "language": "python",
   "name": "python3"
  },
  "language_info": {
   "codemirror_mode": {
    "name": "ipython",
    "version": 3
   },
   "file_extension": ".py",
   "mimetype": "text/x-python",
   "name": "python",
   "nbconvert_exporter": "python",
   "pygments_lexer": "ipython3",
   "version": "3.9.20"
  }
 },
 "nbformat": 4,
 "nbformat_minor": 2
}
